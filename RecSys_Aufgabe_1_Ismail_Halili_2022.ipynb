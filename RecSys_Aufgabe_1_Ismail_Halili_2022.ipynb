{
  "metadata": {
    "language_info": {
      "codemirror_mode": {
        "name": "python",
        "version": 3
      },
      "file_extension": ".py",
      "mimetype": "text/x-python",
      "name": "python",
      "nbconvert_exporter": "python",
      "pygments_lexer": "ipython3",
      "version": "3.8"
    },
    "kernelspec": {
      "name": "python",
      "display_name": "Python (Pyodide)",
      "language": "python"
    }
  },
  "nbformat_minor": 4,
  "nbformat": 4,
  "cells": [
    {
      "cell_type": "markdown",
      "source": "# Recommender Systems Aufgabe 1, Ismail Halili, 2210695005, am 7.11.2022\n- Chapter 9 Recommender Systems bis inkl. Section 9.3.3 lesen [✅]\n- Übungsbeispiele bis inkl. Exercise 9.2.3 rechnen [✅]",
      "metadata": {}
    },
    {
      "cell_type": "markdown",
      "source": "## Exercise 9.2.1\nGegeben:\n3 Computer\n3 Features (Processor Speed, Disk Size, Main Memory Size)\n\n- Computer A: (3.06, 500, 6)\n- Computer B: (2.68, 320, 4)\n- Computer C: (2.92, 640, 6)\n\n**Questions:**\n* a) In terms of α and β, compute the cosines of the angles between the vectors for each pair of the three computers.\n* b) What are the angles between the vectors if α = β = 1?\n* c) What are the angles between the vectors if α = 0.01 and β = 0.5?\n* d) One fair way of selecting scale factors is to make each inversely proportional to the average value in its component. What would be the values of α and β, and what would be the angles between the vectors?\n",
      "metadata": {}
    },
    {
      "cell_type": "markdown",
      "source": "### a) In terms of α and β, compute the cosines of the angles between the vectors for each pair of the three computers.",
      "metadata": {}
    },
    {
      "cell_type": "code",
      "source": "# a) I'm solving this by writing functions returning the expressions as strings. \n# I know I could just calculate the values, but I want to practice python :)\n# cosine expressions are printed\n\npc_A = [3.06, 500, 6]\npc_B = [2.68, 320, 4]\npc_C = [2.92, 640, 6]\n\n# returns dot product expression as string with scale parameters α and β\ndef dot_product_expression(v1, v2):\n    result = \"\"\n    for i in range(len(v1)):\n        result += str(round(v1[i] * v2[i], 2))\n        \n        if i == 1:\n            result += \"α^2\"\n        elif i == 2:\n            result += \"β^2\"\n            \n        result += \" + \"\n\n    return result[0:-3]\n       \n# returns mulitplied vector length expression with scale parameters α and β\ndef multiplied_length_expression(v1, v2):\n    vecs = locals()\n    result = \"\"\n    \n    for v in vecs:\n        v_length_expression = \"sqrt(\"\n        \n        for i, x in enumerate(vecs[v]):\n            v_length_expression += str(round(x * x, 2))\n            \n            if i == 1:\n                v_length_expression += \"α^2\"\n            elif i == 2:\n                v_length_expression += \"β^2\"\n                \n            v_length_expression += \" + \"\n        \n        result += v_length_expression[0:-3] + \") * \"\n    \n    return result[0:-3]\n        \n    \ndef cosine_expression(v1, v2):\n    numerator = dot_product_expression(v1, v2)\n    denominator = multiplied_length_expression(v1, v2)\n    \n    return f'({numerator}) / ({denominator})' \n\nprint(\"In terms of α and β, compute the cosines of the angles between the vectors for each pair of the three computers.\")\nprint()\nprint(\"cos(A,B): \" + cosine_expression(pc_A, pc_B))\nprint(\"cos(A,C): \" + cosine_expression(pc_A, pc_C))\nprint(\"cos(B,C): \" + cosine_expression(pc_B, pc_C))\n        \n    ",
      "metadata": {
        "trusted": true
      },
      "execution_count": 72,
      "outputs": [
        {
          "name": "stdout",
          "text": "In terms of α and β, compute the cosines of the angles between the vectors for each pair of the three computers.\n\ncos(A,B): (8.2 + 160000α^2 + 24β^2) / (sqrt(9.36 + 250000α^2 + 36β^2) * sqrt(7.18 + 102400α^2 + 16β^2))\ncos(A,C): (8.94 + 320000α^2 + 36β^2) / (sqrt(9.36 + 250000α^2 + 36β^2) * sqrt(8.53 + 409600α^2 + 36β^2))\ncos(B,C): (7.83 + 204800α^2 + 24β^2) / (sqrt(7.18 + 102400α^2 + 16β^2) * sqrt(8.53 + 409600α^2 + 36β^2))\n",
          "output_type": "stream"
        }
      ]
    },
    {
      "cell_type": "markdown",
      "source": "### b), c) and d)",
      "metadata": {}
    },
    {
      "cell_type": "code",
      "source": "# b) α = β = 1\n\nimport math\nimport functools\n\npc_A = [3.06, 500, 6]\npc_B = [2.68, 320, 4]\npc_C = [2.92, 640, 6]\n\npcs = [pc_A, pc_B, pc_C]\n\ndef dot_product(v1, v2, alpha = 1, beta = 1):\n    result = 0.0\n    for i in range(len(v1)):\n        if i == 1:\n            result += v1[i] * v2[i] * alpha * alpha\n        elif i == 2: \n            result += v1[i] * v2[i] * beta * beta\n        else:\n            result += v1[i] * v2[i]\n            \n    return result\n            \ndef multiplied_length(v1, v2, alpha = 1, beta = 1):\n    vecs = [v1, v2]\n    lengths = []\n    \n    for v in vecs:\n        v_length = 0.0\n        for i, x in enumerate(v):\n            if i == 1:\n                v_length += x * x * alpha * alpha\n            elif i == 2: \n                v_length += x * x * beta * beta\n            else:\n                v_length += x * x\n                \n        lengths.append(math.sqrt(v_length))\n    # multiply lengths\n    return functools.reduce(lambda a,b: a * b, lengths)\n\ndef cosine(v1, v2, alpha = 1, beta = 1):\n    return dot_product(v1, v2, alpha, beta) / multiplied_length(v1, v2, alpha, beta)\n\nprint(\"b) cosine and angle, when α = β = 1:\")\nprint()\nprint(f'cos(A,B): {cosine(pc_A, pc_B)}, angle in radians: {math.acos(cosine(pc_A, pc_B))}')\nprint(f'cos(A,C): {cosine(pc_A, pc_C)}, angle in radians: {math.acos(cosine(pc_A, pc_C))}')\nprint(f'cos(B,C): {cosine(pc_B, pc_C)}, angle in radians: {math.acos(cosine(pc_B, pc_C))}')\n\nprint()\nprint()\n      \n# c) α = 0.01 and β = 0.5\nprint(\"c) cosine and angle, when α = 0.01 and β = 0.5:\")\nprint()\nprint(f'cos(A,B): {cosine(pc_A, pc_B, 0.01, 0.5)}, angle in radians: {math.acos(cosine(pc_A, pc_B, 0.01, 0.5))}')\nprint(f'cos(A,C): {cosine(pc_A, pc_C, 0.01, 0.5)}, angle in radians: {math.acos(cosine(pc_A, pc_C, 0.01, 0.5))}')\nprint(f'cos(B,C): {cosine(pc_B, pc_C, 0.01, 0.5)}, angle in radians: {math.acos(cosine(pc_B, pc_C, 0.01, 0.5))}')\nprint()\nprint()\n\n# d) α and β inversely proportional to the average value\ndisk_values = []\nram_values = []\n\nfor p in pcs:\n    disk_values.append(p[1])\n    ram_values.append(p[2])\n\navg_disk = functools.reduce(lambda a,b: a + b, disk_values) / 3\navg_ram = functools.reduce(lambda a,b: a + b, ram_values) / 3\nalpha = 1/avg_disk\nbeta = 1/avg_ram\nprint(\"d) α and β inversely proportional to the average value\")\nprint()\nprint(f'value of α is: {alpha}')\nprint(f'value of β is: {beta}')\nprint(f'cos(A,B): {cosine(pc_A, pc_B, alpha, beta)}, angle in radians: {math.acos(cosine(pc_A, pc_B, alpha, beta))}')\nprint(f'cos(A,C): {cosine(pc_A, pc_C, alpha, beta)}, angle in radians: {math.acos(cosine(pc_A, pc_C, alpha, beta))}')\nprint(f'cos(B,C): {cosine(pc_B, pc_C, alpha, beta)}, angle in radians: {math.acos(cosine(pc_B, pc_C, alpha, beta))}')\n\n",
      "metadata": {
        "trusted": true
      },
      "execution_count": 3,
      "outputs": [
        {
          "name": "stdout",
          "text": "b) cosine and angle, when α = β = 1:\n\ncos(A,B): 0.9999973332836593, angle in radians: 0.0023094230993818267\ncos(A,C): 0.9999953431214217, angle in radians: 0.0030518460618901323\ncos(B,C): 0.9999878533753953, angle in radians: 0.004928823225649943\n\n\nc) cosine and angle, when α = 0.01 and β = 0.5:\n\ncos(A,B): 0.9908815005407525, angle in radians: 0.1351472611175092\ncos(A,C): 0.9915547143332561, angle in radians: 0.13005537014708402\ncos(B,C): 0.9691779219936827, angle in radians: 0.24892459032763292\n\n\nd) α and β inversely proportional to the average value\n\nvalue of α is: 0.002054794520547945\nvalue of β is: 0.1875\ncos(A,B): 0.9943904039541531, angle in radians: 0.10597026469724914\ncos(A,C): 0.995613999453596, angle in radians: 0.09369322780682596\ncos(B,C): 0.9822469184045495, angle in radians: 0.18871067989554413\n",
          "output_type": "stream"
        }
      ]
    },
    {
      "cell_type": "markdown",
      "source": "## Exercise 9.2.2\nAn alternative way of scaling components of a vector is to begin by normalizing the vectors. That is, compute the average for each com- ponent and subtract it from that component’s value in each of the vectors.\n\n- a) Normalize the vectors for the three computers described in Exercise 9.2.1.\n- b)...the suggestion in part (d) of Exercise 9.2.1 that we should scale in inverse proportion to the average makes no sense. Suggest a way of finding an appropriate scale for each component of normalized vectors. How would you interpret a large or small angle between normalized vectors? What would the angles be for the normalized vectors derived from the data in Exercise 9.2.1?",
      "metadata": {}
    },
    {
      "cell_type": "markdown",
      "source": "### a) Normalize the vectors for the three computers described in Exercise 9.2.1.",
      "metadata": {}
    },
    {
      "cell_type": "code",
      "source": "# a) normalize the vectors\n\npc_A = [3.06, 500, 6]\npc_B = [2.68, 320, 4]\npc_C = [2.92, 640, 6]\n\nvectors = [pc_A, pc_B, pc_C]\n\ncpu_values = []\ndisk_values = []\nram_values = []\n\nfor v in vectors:\n    cpu_values.append(v[0])\n    disk_values.append(v[1])\n    ram_values.append(v[2])\n\navg_cpu = functools.reduce(lambda a,b: a + b, cpu_values) / 3\navg_disk = functools.reduce(lambda a,b: a + b, disk_values) / 3\navg_ram = functools.reduce(lambda a,b: a + b, ram_values) / 3\n\navgs = [avg_cpu, avg_disk, avg_ram]\n\nfor v in vectors:\n    for i, x in enumerate(v):\n        v[i] = x - avgs[i]\n\nprint(\"normalized vectors:\")\nprint()\nfor v in vectors:\n    print(v)",
      "metadata": {
        "trusted": true
      },
      "execution_count": 30,
      "outputs": [
        {
          "name": "stdout",
          "text": "normalized vectors:\n\n[0.17333333333333334, 13.333333333333314, 0.666666666666667]\n[-0.20666666666666655, -166.66666666666669, -1.333333333333333]\n[0.033333333333333215, 153.33333333333331, 0.666666666666667]\n",
          "output_type": "stream"
        }
      ]
    },
    {
      "cell_type": "markdown",
      "source": "### b) Suggest a way of finding an appropriate scale for each component of normalized vectors. How would you interpret a large or small angle between normalized vectors? What would the angles be for the normalized vectors derived from the data in Exercise 9.2.1?\n\nIch würde den Durschnitt der Unterschiede vorschlagen. Also indirekt proptional zum Durschnitt der Unterschiede. Ich würde von jedem Wert den Betrag nehmen, addieren und Durschnitt berechnen.\n\n\n**Interpretation Winkel:**\n\nKleiner Winkel zwischen normalisierten Vektoren bedeutet, dass sie sehr ähnlich sind bezüglich Abweichungen der einzelnen Komponentenwerte zu ihrem Durschnitt. Großer Winkel bedeutet, dass sie sich nicht ähnlich sind und die Abweichungen sich unterscheiden. Bei Winkel 0 zeigen die Vektoren in die gleiche Richtung und können sich sogar überlappen (falls gleiche Werte), was bedeutet, dass sie die gleichen Abweichungen haben. Bei einem Winkel von 180 Grad könnten sich die Vektoren überlappen, aber die Richtung ist entgegensetzt, was heißt, dass sie sich stark unterscheiden.   \n\n\nnote: Mit Komponente meine ich einen Teil des Vektors z.B der normalisierte Wert für \"Processor Speed\". (im paper ist die rede von components) \n\n**Es folgt Berechnung der Winkel**\n",
      "metadata": {}
    },
    {
      "cell_type": "code",
      "source": "# suggestion with mean of differences\na = [0.17333333333333334, 13.333333333333314, 0.666666666666667]\nb = [-0.20666666666666655, -166.66666666666669, -1.333333333333333]\nc = [0.033333333333333215, 153.33333333333331, 0.666666666666667]\nnorm_vecs = [a, b, c]\n\nadif_disk = 0.0\nadif_ram = 0.0\n\nfor v in norm_vecs:\n    adif_disk += abs(v[1])\n    adif_ram += abs(v[2])\n\nadif_disk /= 3\nadif_ram /= 3\n\nalpha = 1/adif_disk\nbeta = 1/adif_ram\n\n\"\"\"\ncopy paste von oben für cosinus und winkel\n\"\"\"\n\nimport math\nimport functools\n\ndef dot_product(v1, v2, alpha = 1, beta = 1):\n    result = 0.0\n    for i in range(len(v1)):\n        if i == 1:\n            result += v1[i] * v2[i] * alpha * alpha\n        elif i == 2: \n            result += v1[i] * v2[i] * beta * beta\n        else:\n            result += v1[i] * v2[i]\n            \n    return result\n            \ndef multiplied_length(v1, v2, alpha = 1, beta = 1):\n    vecs = [v1, v2]\n    lengths = []\n    \n    for v in vecs:\n        v_length = 0.0\n        for i, x in enumerate(v):\n            if i == 1:\n                v_length += x * x * alpha * alpha\n            elif i == 2: \n                v_length += x * x * beta * beta\n            else:\n                v_length += x * x\n                \n        lengths.append(math.sqrt(v_length))\n    # multiply lengths\n    return functools.reduce(lambda a,b: a * b, lengths)\n\ndef cosine(v1, v2, alpha = 1, beta = 1):\n    return dot_product(v1, v2, alpha, beta) / multiplied_length(v1, v2, alpha, beta)\n\nprint(f'cos(A,B): {cosine(a, b, alpha, beta)}, angle in radians: {math.acos(cosine(a, b, alpha, beta))}')\nprint(f'cos(A,C): {cosine(a, c, alpha, beta)}, angle in radians: {math.acos(cosine(a, c, alpha, beta))}')\nprint(f'cos(B,C): {cosine(b, c, alpha, beta)}, angle in radians: {math.acos(cosine(b, c, alpha, beta))}')\n\n\n",
      "metadata": {
        "trusted": true
      },
      "execution_count": 14,
      "outputs": [
        {
          "name": "stdout",
          "text": "cos(A,B): -0.8074937494681994, angle in radians: 2.510687226358523\ncos(A,C): 0.5996194499226026, angle in radians: 0.9277708207920352\ncos(B,C): -0.9562581337028262, angle in radians: 2.8447272600290283\n",
          "output_type": "stream"
        }
      ]
    },
    {
      "cell_type": "markdown",
      "source": "## Exercise 9.2.3",
      "metadata": {}
    },
    {
      "cell_type": "markdown",
      "source": "A certain user has rated the three computers of Exercise 9.2.1 as follows: A: 4 stars, B: 2 stars, C: 5 stars.\n\n- a) normalize the ratings for this user\n- b) Compute a user profile for the user, with components for processor speed, disk size, and main memory size, based on the data of Exercise 9.2.1.\n",
      "metadata": {}
    },
    {
      "cell_type": "markdown",
      "source": "### a) und b)",
      "metadata": {}
    },
    {
      "cell_type": "code",
      "source": "# a) normalize the ratings for the user\n\nimport functools\n\nratings_user = [4, 2, 5]\nnormalized = [0, 0, 0]\n\navg_rating = functools.reduce(lambda a,b: a + b, ratings_user) / 3\n\nfor i, r in enumerate(ratings_user):\n    normalized[i] = r - avg_rating\n    \nprint(\"a) normalized ratings: \")\nprint()\nprint(normalized)\n\n# b) user profile, processor speed, disk size, main memory\n\nuser_profile = [0, 0, 0]\npc_A = [3.06, 500, 6]\npc_B = [2.68, 320, 4]\npc_C = [2.92, 640, 6]\n\npcs = [pc_A, pc_B, pc_C]\n\n\"\"\"\nIf the utility matrix is not Boolean, e.g., ratings 1–5, then we can weight the vectors representing the profiles\nof items by the utility value. It makes sense to normalize the utilities by subtracting the average value for a user.\nThat way, we get negative weights for items with a below-average rating, and positive weights for items with above-average ratings.\n\"\"\"\n\n\"\"\"\nThere are three movies with Julia Roberts as an actor, and those movies got ratings of 3, 4, and 5. Then in the user profile of U,\nthe component for Julia Roberts will have value that is the average of 3−3, 4−3, and 5−3, that is, a value of 1\n\"\"\"\n\n# macht es hier sinn die normalized werte herzunehmen?\n# average of normalized rating weighted by utility value\nfor i, n in enumerate(normalized):\n    user_profile[0] += pcs[i][0] * n # cpu\n    user_profile[1] += pcs[i][1] * n # disk\n    user_profile[2] += pcs[i][2] * n # ram\n\nprint()\nprint(\"b) user profile [cpu speed, disk size, ram size] with normalized ratings:\")\nprint()\nprint(user_profile)",
      "metadata": {
        "trusted": true
      },
      "execution_count": 19,
      "outputs": [
        {
          "name": "stdout",
          "text": "a) normalized ratings: \n\n[0.3333333333333335, -1.6666666666666665, 1.3333333333333335]\n\nb) user profile [cpu speed, disk size, ram size] with normalized ratings:\n\n[0.4466666666666672, 486.66666666666697, 3.333333333333335]\n",
          "output_type": "stream"
        }
      ]
    },
    {
      "cell_type": "code",
      "source": "",
      "metadata": {},
      "execution_count": null,
      "outputs": []
    }
  ]
}